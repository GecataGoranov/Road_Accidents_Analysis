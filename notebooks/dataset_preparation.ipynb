{
 "cells": [
  {
   "cell_type": "markdown",
   "id": "5bd7b46f-e878-4346-8f68-41fb58570bab",
   "metadata": {},
   "source": [
    "# **Preparing The Datasets**"
   ]
  },
  {
   "cell_type": "code",
   "execution_count": 1,
   "id": "3a8fe04c-d1e6-49e3-b98f-c916dc337a13",
   "metadata": {},
   "outputs": [],
   "source": [
    "import numpy as np\n",
    "import pandas as pd\n",
    "import matplotlib.pyplot as plt\n",
    "import seaborn as sns\n",
    "\n",
    "import gc"
   ]
  },
  {
   "cell_type": "markdown",
   "id": "de438569-872d-4429-a661-c3adc9cd7104",
   "metadata": {},
   "source": [
    "The datasets we are going to use in this project are called \"dft-road-casualty-statistics-casualty-last-5-years\", \"dft-road-casualty-statistics-vehicle-last-5-years\" and \"dft-road-casualty-statistics-collision-last-5-years\". They can be downloaded for free from the [Website of the UK government](https://www.data.gov.uk/dataset/cb7ae6f0-4be6-4935-9277-47e5ce24a11f/road-safety-data). When combined, the datasets consist of a total of 665408 observations and 85 features. All of the features are encoded with integer numbers, [Here is the guide on their meaning](https://doc.ukdataservice.ac.uk/doc/7752/mrdoc/pdf/7752_ukds_user_guide_2014.pdf).\n",
    "\n",
    "Now let's load the datasets and combine them:"
   ]
  },
  {
   "cell_type": "code",
   "execution_count": 2,
   "id": "d801f83f-0142-47cf-b237-7b3de8aa9dc4",
   "metadata": {},
   "outputs": [],
   "source": [
    "uk_accidents_casualties = pd.read_csv(\"../data/dft-road-casualty-statistics-casualty-last-5-years.csv\", na_values = [-1, \"NULL\"], low_memory = False)"
   ]
  },
  {
   "cell_type": "code",
   "execution_count": 3,
   "id": "047b3511-6c56-454b-aa24-d9d281fffd64",
   "metadata": {},
   "outputs": [],
   "source": [
    "uk_accidents_vehicles = pd.read_csv(\"../data/dft-road-casualty-statistics-vehicle-last-5-years.csv\", na_values = [-1, \"NULL\"], low_memory = False)"
   ]
  },
  {
   "cell_type": "code",
   "execution_count": 4,
   "id": "6b2427ee-8614-43e0-a07a-27e50ea222a6",
   "metadata": {},
   "outputs": [],
   "source": [
    "uk_accidents_collisions = pd.read_csv(\"../data/dft-road-casualty-statistics-collision-last-5-years.csv\", na_values = [-1, \"NULL\"], low_memory = False)"
   ]
  },
  {
   "cell_type": "code",
   "execution_count": 5,
   "id": "0fb4c8e1-9973-4503-9645-a7d01d45d8bd",
   "metadata": {},
   "outputs": [],
   "source": [
    "temp_merge = pd.merge(uk_accidents_collisions, uk_accidents_vehicles, how = \"inner\")"
   ]
  },
  {
   "cell_type": "code",
   "execution_count": 6,
   "id": "f58c31d5-1ebf-49d7-bc62-284bc18380bf",
   "metadata": {},
   "outputs": [],
   "source": [
    "uk_accidents_all_cols = pd.merge(temp_merge, uk_accidents_casualties, on = uk_accidents_collisions.index.name, how = \"inner\")"
   ]
  },
  {
   "cell_type": "code",
   "execution_count": 7,
   "id": "49815793-5254-4392-8e05-ccb1f8f32e09",
   "metadata": {},
   "outputs": [
    {
     "data": {
      "text/html": [
       "<div>\n",
       "<style scoped>\n",
       "    .dataframe tbody tr th:only-of-type {\n",
       "        vertical-align: middle;\n",
       "    }\n",
       "\n",
       "    .dataframe tbody tr th {\n",
       "        vertical-align: top;\n",
       "    }\n",
       "\n",
       "    .dataframe thead th {\n",
       "        text-align: right;\n",
       "    }\n",
       "</style>\n",
       "<table border=\"1\" class=\"dataframe\">\n",
       "  <thead>\n",
       "    <tr style=\"text-align: right;\">\n",
       "      <th></th>\n",
       "      <th>accident_index</th>\n",
       "      <th>accident_year</th>\n",
       "      <th>accident_reference</th>\n",
       "      <th>location_easting_osgr</th>\n",
       "      <th>location_northing_osgr</th>\n",
       "      <th>longitude</th>\n",
       "      <th>latitude</th>\n",
       "      <th>police_force</th>\n",
       "      <th>accident_severity</th>\n",
       "      <th>number_of_vehicles</th>\n",
       "      <th>...</th>\n",
       "      <th>pedestrian_movement</th>\n",
       "      <th>car_passenger</th>\n",
       "      <th>bus_or_coach_passenger</th>\n",
       "      <th>pedestrian_road_maintenance_worker</th>\n",
       "      <th>casualty_type</th>\n",
       "      <th>casualty_home_area_type</th>\n",
       "      <th>casualty_imd_decile</th>\n",
       "      <th>lsoa_of_casualty</th>\n",
       "      <th>enhanced_casualty_severity</th>\n",
       "      <th>casualty_distance_banding</th>\n",
       "    </tr>\n",
       "  </thead>\n",
       "  <tbody>\n",
       "    <tr>\n",
       "      <th>0</th>\n",
       "      <td>2019010128300</td>\n",
       "      <td>2019</td>\n",
       "      <td>010128300</td>\n",
       "      <td>528218.0</td>\n",
       "      <td>180407.0</td>\n",
       "      <td>-0.153842</td>\n",
       "      <td>51.508057</td>\n",
       "      <td>1</td>\n",
       "      <td>3</td>\n",
       "      <td>2</td>\n",
       "      <td>...</td>\n",
       "      <td>0.0</td>\n",
       "      <td>0.0</td>\n",
       "      <td>0.0</td>\n",
       "      <td>0.0</td>\n",
       "      <td>9.0</td>\n",
       "      <td>1.0</td>\n",
       "      <td>2.0</td>\n",
       "      <td>E01003175</td>\n",
       "      <td>NaN</td>\n",
       "      <td>2.0</td>\n",
       "    </tr>\n",
       "    <tr>\n",
       "      <th>1</th>\n",
       "      <td>2019010128300</td>\n",
       "      <td>2019</td>\n",
       "      <td>010128300</td>\n",
       "      <td>528218.0</td>\n",
       "      <td>180407.0</td>\n",
       "      <td>-0.153842</td>\n",
       "      <td>51.508057</td>\n",
       "      <td>1</td>\n",
       "      <td>3</td>\n",
       "      <td>2</td>\n",
       "      <td>...</td>\n",
       "      <td>0.0</td>\n",
       "      <td>1.0</td>\n",
       "      <td>0.0</td>\n",
       "      <td>0.0</td>\n",
       "      <td>9.0</td>\n",
       "      <td>1.0</td>\n",
       "      <td>5.0</td>\n",
       "      <td>E01003411</td>\n",
       "      <td>NaN</td>\n",
       "      <td>3.0</td>\n",
       "    </tr>\n",
       "    <tr>\n",
       "      <th>2</th>\n",
       "      <td>2019010128300</td>\n",
       "      <td>2019</td>\n",
       "      <td>010128300</td>\n",
       "      <td>528218.0</td>\n",
       "      <td>180407.0</td>\n",
       "      <td>-0.153842</td>\n",
       "      <td>51.508057</td>\n",
       "      <td>1</td>\n",
       "      <td>3</td>\n",
       "      <td>2</td>\n",
       "      <td>...</td>\n",
       "      <td>0.0</td>\n",
       "      <td>2.0</td>\n",
       "      <td>0.0</td>\n",
       "      <td>0.0</td>\n",
       "      <td>9.0</td>\n",
       "      <td>1.0</td>\n",
       "      <td>5.0</td>\n",
       "      <td>E01003413</td>\n",
       "      <td>NaN</td>\n",
       "      <td>3.0</td>\n",
       "    </tr>\n",
       "    <tr>\n",
       "      <th>3</th>\n",
       "      <td>2019010152270</td>\n",
       "      <td>2019</td>\n",
       "      <td>010152270</td>\n",
       "      <td>530219.0</td>\n",
       "      <td>172463.0</td>\n",
       "      <td>-0.127949</td>\n",
       "      <td>51.436208</td>\n",
       "      <td>1</td>\n",
       "      <td>3</td>\n",
       "      <td>2</td>\n",
       "      <td>...</td>\n",
       "      <td>0.0</td>\n",
       "      <td>0.0</td>\n",
       "      <td>0.0</td>\n",
       "      <td>0.0</td>\n",
       "      <td>9.0</td>\n",
       "      <td>1.0</td>\n",
       "      <td>3.0</td>\n",
       "      <td>E01003180</td>\n",
       "      <td>NaN</td>\n",
       "      <td>1.0</td>\n",
       "    </tr>\n",
       "    <tr>\n",
       "      <th>4</th>\n",
       "      <td>2019010155191</td>\n",
       "      <td>2019</td>\n",
       "      <td>010155191</td>\n",
       "      <td>530222.0</td>\n",
       "      <td>182543.0</td>\n",
       "      <td>-0.124193</td>\n",
       "      <td>51.526795</td>\n",
       "      <td>1</td>\n",
       "      <td>3</td>\n",
       "      <td>2</td>\n",
       "      <td>...</td>\n",
       "      <td>0.0</td>\n",
       "      <td>0.0</td>\n",
       "      <td>0.0</td>\n",
       "      <td>0.0</td>\n",
       "      <td>1.0</td>\n",
       "      <td>1.0</td>\n",
       "      <td>1.0</td>\n",
       "      <td>E01016964</td>\n",
       "      <td>NaN</td>\n",
       "      <td>4.0</td>\n",
       "    </tr>\n",
       "    <tr>\n",
       "      <th>...</th>\n",
       "      <td>...</td>\n",
       "      <td>...</td>\n",
       "      <td>...</td>\n",
       "      <td>...</td>\n",
       "      <td>...</td>\n",
       "      <td>...</td>\n",
       "      <td>...</td>\n",
       "      <td>...</td>\n",
       "      <td>...</td>\n",
       "      <td>...</td>\n",
       "      <td>...</td>\n",
       "      <td>...</td>\n",
       "      <td>...</td>\n",
       "      <td>...</td>\n",
       "      <td>...</td>\n",
       "      <td>...</td>\n",
       "      <td>...</td>\n",
       "      <td>...</td>\n",
       "      <td>...</td>\n",
       "      <td>...</td>\n",
       "      <td>...</td>\n",
       "    </tr>\n",
       "    <tr>\n",
       "      <th>665403</th>\n",
       "      <td>2023991452286</td>\n",
       "      <td>2023</td>\n",
       "      <td>991452286</td>\n",
       "      <td>246754.0</td>\n",
       "      <td>661133.0</td>\n",
       "      <td>-4.447490</td>\n",
       "      <td>55.819059</td>\n",
       "      <td>99</td>\n",
       "      <td>2</td>\n",
       "      <td>1</td>\n",
       "      <td>...</td>\n",
       "      <td>8.0</td>\n",
       "      <td>0.0</td>\n",
       "      <td>0.0</td>\n",
       "      <td>0.0</td>\n",
       "      <td>0.0</td>\n",
       "      <td>1.0</td>\n",
       "      <td>2.0</td>\n",
       "      <td>NaN</td>\n",
       "      <td>7.0</td>\n",
       "      <td>1.0</td>\n",
       "    </tr>\n",
       "    <tr>\n",
       "      <th>665404</th>\n",
       "      <td>2023991452640</td>\n",
       "      <td>2023</td>\n",
       "      <td>991452640</td>\n",
       "      <td>224491.0</td>\n",
       "      <td>581627.0</td>\n",
       "      <td>-4.752200</td>\n",
       "      <td>55.097920</td>\n",
       "      <td>99</td>\n",
       "      <td>3</td>\n",
       "      <td>2</td>\n",
       "      <td>...</td>\n",
       "      <td>9.0</td>\n",
       "      <td>0.0</td>\n",
       "      <td>0.0</td>\n",
       "      <td>2.0</td>\n",
       "      <td>0.0</td>\n",
       "      <td>3.0</td>\n",
       "      <td>4.0</td>\n",
       "      <td>NaN</td>\n",
       "      <td>3.0</td>\n",
       "      <td>1.0</td>\n",
       "    </tr>\n",
       "    <tr>\n",
       "      <th>665405</th>\n",
       "      <td>2023991453360</td>\n",
       "      <td>2023</td>\n",
       "      <td>991453360</td>\n",
       "      <td>383341.0</td>\n",
       "      <td>806427.0</td>\n",
       "      <td>-2.276957</td>\n",
       "      <td>57.148422</td>\n",
       "      <td>99</td>\n",
       "      <td>3</td>\n",
       "      <td>2</td>\n",
       "      <td>...</td>\n",
       "      <td>0.0</td>\n",
       "      <td>0.0</td>\n",
       "      <td>0.0</td>\n",
       "      <td>0.0</td>\n",
       "      <td>3.0</td>\n",
       "      <td>1.0</td>\n",
       "      <td>7.0</td>\n",
       "      <td>NaN</td>\n",
       "      <td>3.0</td>\n",
       "      <td>2.0</td>\n",
       "    </tr>\n",
       "    <tr>\n",
       "      <th>665406</th>\n",
       "      <td>2023991461915</td>\n",
       "      <td>2023</td>\n",
       "      <td>991461915</td>\n",
       "      <td>271662.0</td>\n",
       "      <td>655488.0</td>\n",
       "      <td>-4.047591</td>\n",
       "      <td>55.775637</td>\n",
       "      <td>99</td>\n",
       "      <td>3</td>\n",
       "      <td>1</td>\n",
       "      <td>...</td>\n",
       "      <td>3.0</td>\n",
       "      <td>0.0</td>\n",
       "      <td>0.0</td>\n",
       "      <td>0.0</td>\n",
       "      <td>0.0</td>\n",
       "      <td>NaN</td>\n",
       "      <td>NaN</td>\n",
       "      <td>NaN</td>\n",
       "      <td>3.0</td>\n",
       "      <td>1.0</td>\n",
       "    </tr>\n",
       "    <tr>\n",
       "      <th>665407</th>\n",
       "      <td>2023991462793</td>\n",
       "      <td>2023</td>\n",
       "      <td>991462793</td>\n",
       "      <td>327349.0</td>\n",
       "      <td>666746.0</td>\n",
       "      <td>-3.163102</td>\n",
       "      <td>55.888350</td>\n",
       "      <td>99</td>\n",
       "      <td>3</td>\n",
       "      <td>2</td>\n",
       "      <td>...</td>\n",
       "      <td>0.0</td>\n",
       "      <td>0.0</td>\n",
       "      <td>0.0</td>\n",
       "      <td>0.0</td>\n",
       "      <td>9.0</td>\n",
       "      <td>NaN</td>\n",
       "      <td>NaN</td>\n",
       "      <td>NaN</td>\n",
       "      <td>3.0</td>\n",
       "      <td>NaN</td>\n",
       "    </tr>\n",
       "  </tbody>\n",
       "</table>\n",
       "<p>665408 rows × 85 columns</p>\n",
       "</div>"
      ],
      "text/plain": [
       "       accident_index  accident_year accident_reference  \\\n",
       "0       2019010128300           2019          010128300   \n",
       "1       2019010128300           2019          010128300   \n",
       "2       2019010128300           2019          010128300   \n",
       "3       2019010152270           2019          010152270   \n",
       "4       2019010155191           2019          010155191   \n",
       "...               ...            ...                ...   \n",
       "665403  2023991452286           2023          991452286   \n",
       "665404  2023991452640           2023          991452640   \n",
       "665405  2023991453360           2023          991453360   \n",
       "665406  2023991461915           2023          991461915   \n",
       "665407  2023991462793           2023          991462793   \n",
       "\n",
       "        location_easting_osgr  location_northing_osgr  longitude   latitude  \\\n",
       "0                    528218.0                180407.0  -0.153842  51.508057   \n",
       "1                    528218.0                180407.0  -0.153842  51.508057   \n",
       "2                    528218.0                180407.0  -0.153842  51.508057   \n",
       "3                    530219.0                172463.0  -0.127949  51.436208   \n",
       "4                    530222.0                182543.0  -0.124193  51.526795   \n",
       "...                       ...                     ...        ...        ...   \n",
       "665403               246754.0                661133.0  -4.447490  55.819059   \n",
       "665404               224491.0                581627.0  -4.752200  55.097920   \n",
       "665405               383341.0                806427.0  -2.276957  57.148422   \n",
       "665406               271662.0                655488.0  -4.047591  55.775637   \n",
       "665407               327349.0                666746.0  -3.163102  55.888350   \n",
       "\n",
       "        police_force  accident_severity  number_of_vehicles  ...  \\\n",
       "0                  1                  3                   2  ...   \n",
       "1                  1                  3                   2  ...   \n",
       "2                  1                  3                   2  ...   \n",
       "3                  1                  3                   2  ...   \n",
       "4                  1                  3                   2  ...   \n",
       "...              ...                ...                 ...  ...   \n",
       "665403            99                  2                   1  ...   \n",
       "665404            99                  3                   2  ...   \n",
       "665405            99                  3                   2  ...   \n",
       "665406            99                  3                   1  ...   \n",
       "665407            99                  3                   2  ...   \n",
       "\n",
       "        pedestrian_movement car_passenger  bus_or_coach_passenger  \\\n",
       "0                       0.0           0.0                     0.0   \n",
       "1                       0.0           1.0                     0.0   \n",
       "2                       0.0           2.0                     0.0   \n",
       "3                       0.0           0.0                     0.0   \n",
       "4                       0.0           0.0                     0.0   \n",
       "...                     ...           ...                     ...   \n",
       "665403                  8.0           0.0                     0.0   \n",
       "665404                  9.0           0.0                     0.0   \n",
       "665405                  0.0           0.0                     0.0   \n",
       "665406                  3.0           0.0                     0.0   \n",
       "665407                  0.0           0.0                     0.0   \n",
       "\n",
       "       pedestrian_road_maintenance_worker  casualty_type  \\\n",
       "0                                     0.0            9.0   \n",
       "1                                     0.0            9.0   \n",
       "2                                     0.0            9.0   \n",
       "3                                     0.0            9.0   \n",
       "4                                     0.0            1.0   \n",
       "...                                   ...            ...   \n",
       "665403                                0.0            0.0   \n",
       "665404                                2.0            0.0   \n",
       "665405                                0.0            3.0   \n",
       "665406                                0.0            0.0   \n",
       "665407                                0.0            9.0   \n",
       "\n",
       "       casualty_home_area_type casualty_imd_decile  lsoa_of_casualty  \\\n",
       "0                          1.0                 2.0         E01003175   \n",
       "1                          1.0                 5.0         E01003411   \n",
       "2                          1.0                 5.0         E01003413   \n",
       "3                          1.0                 3.0         E01003180   \n",
       "4                          1.0                 1.0         E01016964   \n",
       "...                        ...                 ...               ...   \n",
       "665403                     1.0                 2.0               NaN   \n",
       "665404                     3.0                 4.0               NaN   \n",
       "665405                     1.0                 7.0               NaN   \n",
       "665406                     NaN                 NaN               NaN   \n",
       "665407                     NaN                 NaN               NaN   \n",
       "\n",
       "        enhanced_casualty_severity  casualty_distance_banding  \n",
       "0                              NaN                        2.0  \n",
       "1                              NaN                        3.0  \n",
       "2                              NaN                        3.0  \n",
       "3                              NaN                        1.0  \n",
       "4                              NaN                        4.0  \n",
       "...                            ...                        ...  \n",
       "665403                         7.0                        1.0  \n",
       "665404                         3.0                        1.0  \n",
       "665405                         3.0                        2.0  \n",
       "665406                         3.0                        1.0  \n",
       "665407                         3.0                        NaN  \n",
       "\n",
       "[665408 rows x 85 columns]"
      ]
     },
     "execution_count": 7,
     "metadata": {},
     "output_type": "execute_result"
    }
   ],
   "source": [
    "uk_accidents_all_cols"
   ]
  },
  {
   "cell_type": "markdown",
   "id": "10a6864b-1e0c-4803-afb2-cf4e77648c5d",
   "metadata": {},
   "source": [
    "Now freeing the memory from datasets we are not going to use anymore:"
   ]
  },
  {
   "cell_type": "code",
   "execution_count": 8,
   "id": "330e8d85-e357-4c16-87d2-6ea0295853b9",
   "metadata": {},
   "outputs": [
    {
     "data": {
      "text/plain": [
       "0"
      ]
     },
     "execution_count": 8,
     "metadata": {},
     "output_type": "execute_result"
    }
   ],
   "source": [
    "del uk_accidents_casualties\n",
    "del uk_accidents_vehicles\n",
    "del uk_accidents_collisions\n",
    "\n",
    "gc.collect()"
   ]
  },
  {
   "cell_type": "markdown",
   "id": "10b8f120-34f5-4ccd-a341-cd0d74556dcf",
   "metadata": {},
   "source": [
    "There are some features, that don't make sense to be modeled. There are also columns, where I couldn't find information about their encoding. Lets get rid of them:"
   ]
  },
  {
   "cell_type": "code",
   "execution_count": 9,
   "id": "7837540f-0f69-4b13-a52b-2875ed48e1d1",
   "metadata": {},
   "outputs": [],
   "source": [
    "columns_to_get_rid_of = [\"accident_index\", \"accident_reference\", \"location_easting_osgr\", \"location_northing_osgr\", \"longitude\",\n",
    "                         \"latitude\", \"police_force\", \"local_authority_ons_district\", \"local_authority_highway\",\n",
    "                         \"first_road_number\", \"second_road_number\", \"urban_or_rural_area\", \"trunk_road_flag\",\n",
    "                         \"lsoa_of_accident_location\", \"enhanced_severity_collision\", \"vehicle_reference\",\n",
    "                         \"casualty_reference\", \"casualty_type\", \"casualty_home_area_type\", \"casualty_imd_decile\",\n",
    "                         \"lsoa_of_casualty\", \"enhanced_casualty_severity\", \"casualty_distance_banding\",\n",
    "                         \"driver_imd_decile\", \"driver_home_area_type\", \"lsoa_of_driver\", \"driver_distance_banding\",\n",
    "                         \"propulsion_code\", \"generic_make_model\", \"age_band_of_driver\"]"
   ]
  },
  {
   "cell_type": "code",
   "execution_count": 10,
   "id": "f95fe97c-9a9e-49e0-945b-17ba287f1106",
   "metadata": {},
   "outputs": [],
   "source": [
    "uk_accidents_df = uk_accidents_all_cols.drop(columns = columns_to_get_rid_of)"
   ]
  },
  {
   "cell_type": "code",
   "execution_count": 11,
   "id": "8a787130-5164-46ed-82b2-8b0e3f31f23a",
   "metadata": {},
   "outputs": [
    {
     "data": {
      "text/plain": [
       "0"
      ]
     },
     "execution_count": 11,
     "metadata": {},
     "output_type": "execute_result"
    }
   ],
   "source": [
    "del uk_accidents_all_cols\n",
    "\n",
    "gc.collect()"
   ]
  },
  {
   "cell_type": "markdown",
   "id": "736d8f65-c7bd-4538-8282-c49e35834801",
   "metadata": {},
   "source": [
    "Let's look at the dtypes of the features:"
   ]
  },
  {
   "cell_type": "code",
   "execution_count": 12,
   "id": "6af8ebaa-4ef8-4d80-837a-ede75e7052c8",
   "metadata": {
    "scrolled": true
   },
   "outputs": [
    {
     "data": {
      "text/plain": [
       "accident_year                                    int64\n",
       "accident_severity                                int64\n",
       "number_of_vehicles                               int64\n",
       "number_of_casualties                             int64\n",
       "date                                            object\n",
       "day_of_week                                      int64\n",
       "time                                            object\n",
       "local_authority_district                       float64\n",
       "first_road_class                                 int64\n",
       "road_type                                        int64\n",
       "speed_limit                                    float64\n",
       "junction_detail                                float64\n",
       "junction_control                               float64\n",
       "second_road_class                              float64\n",
       "pedestrian_crossing_human_control              float64\n",
       "pedestrian_crossing_physical_facilities        float64\n",
       "light_conditions                               float64\n",
       "weather_conditions                             float64\n",
       "road_surface_conditions                        float64\n",
       "special_conditions_at_site                     float64\n",
       "carriageway_hazards                            float64\n",
       "did_police_officer_attend_scene_of_accident    float64\n",
       "vehicle_type                                   float64\n",
       "towing_and_articulation                        float64\n",
       "vehicle_manoeuvre                              float64\n",
       "vehicle_direction_from                         float64\n",
       "vehicle_direction_to                           float64\n",
       "vehicle_location_restricted_lane               float64\n",
       "junction_location                              float64\n",
       "skidding_and_overturning                       float64\n",
       "hit_object_in_carriageway                      float64\n",
       "vehicle_leaving_carriageway                    float64\n",
       "hit_object_off_carriageway                     float64\n",
       "first_point_of_impact                          float64\n",
       "vehicle_left_hand_drive                        float64\n",
       "journey_purpose_of_driver                      float64\n",
       "sex_of_driver                                  float64\n",
       "age_of_driver                                  float64\n",
       "engine_capacity_cc                             float64\n",
       "age_of_vehicle                                 float64\n",
       "escooter_flag                                    int64\n",
       "dir_from_e                                     float64\n",
       "dir_from_n                                     float64\n",
       "dir_to_e                                       float64\n",
       "dir_to_n                                       float64\n",
       "casualty_class                                   int64\n",
       "sex_of_casualty                                float64\n",
       "age_of_casualty                                float64\n",
       "age_band_of_casualty                           float64\n",
       "casualty_severity                                int64\n",
       "pedestrian_location                            float64\n",
       "pedestrian_movement                            float64\n",
       "car_passenger                                  float64\n",
       "bus_or_coach_passenger                         float64\n",
       "pedestrian_road_maintenance_worker             float64\n",
       "dtype: object"
      ]
     },
     "execution_count": 12,
     "metadata": {},
     "output_type": "execute_result"
    }
   ],
   "source": [
    "uk_accidents_df.dtypes"
   ]
  },
  {
   "cell_type": "markdown",
   "id": "024dde38-8156-4d71-98cc-4f017e58151a",
   "metadata": {},
   "source": [
    "Now the only \"object\" features are the date and time features. Let's take a deeper look into \"date\" first:"
   ]
  },
  {
   "cell_type": "code",
   "execution_count": 13,
   "id": "e075f7db-f30f-44eb-8bc2-3d9aaf77d7e3",
   "metadata": {},
   "outputs": [
    {
     "data": {
      "text/plain": [
       "0         18/02/2019\n",
       "1         18/02/2019\n",
       "2         18/02/2019\n",
       "3         15/01/2019\n",
       "4         01/01/2019\n",
       "             ...    \n",
       "665403    07/12/2023\n",
       "665404    06/10/2023\n",
       "665405    15/11/2023\n",
       "665406    07/02/2023\n",
       "665407    07/07/2023\n",
       "Name: date, Length: 665408, dtype: object"
      ]
     },
     "execution_count": 13,
     "metadata": {},
     "output_type": "execute_result"
    }
   ],
   "source": [
    "uk_accidents_df[\"date\"]"
   ]
  },
  {
   "cell_type": "markdown",
   "id": "df011800-1d77-4b9d-ac42-c254fc0e11b8",
   "metadata": {},
   "source": [
    "As we can see, it's not very well formatted and also we already have the years as a separate feature. It makes the most sense to just separate the month and the day."
   ]
  },
  {
   "cell_type": "code",
   "execution_count": 14,
   "id": "7e8ef6c4-7827-4cba-bd3a-d7b0486657ea",
   "metadata": {},
   "outputs": [],
   "source": [
    "def adjust_date(df):\n",
    "    df[\"day_of_month\"] = df[\"date\"].str.slice(stop = 2)\n",
    "    df[\"day_of_month\"] = df[\"day_of_month\"].astype(int)\n",
    "\n",
    "    df[\"month\"] = df[\"date\"].str.slice(start = 3, stop = -5)\n",
    "    df[\"month\"] = df[\"month\"].astype(int)\n",
    "\n",
    "    return df.drop(columns = [\"date\"])"
   ]
  },
  {
   "cell_type": "code",
   "execution_count": 15,
   "id": "36e521c6-5dc2-4b28-b4bd-7b6d3650cc98",
   "metadata": {},
   "outputs": [],
   "source": [
    "uk_accidents_df = adjust_date(uk_accidents_df)"
   ]
  },
  {
   "cell_type": "markdown",
   "id": "9bdb8393-059e-4877-a53d-374e9892e413",
   "metadata": {},
   "source": [
    "Now we are going to take a look at the \"time\" column:"
   ]
  },
  {
   "cell_type": "code",
   "execution_count": 16,
   "id": "10dd2a1e-f981-42b8-ad0e-7a9101ee2706",
   "metadata": {},
   "outputs": [
    {
     "data": {
      "text/plain": [
       "0         17:50\n",
       "1         17:50\n",
       "2         17:50\n",
       "3         21:45\n",
       "4         01:50\n",
       "          ...  \n",
       "665403    08:43\n",
       "665404    10:10\n",
       "665405    17:00\n",
       "665406    21:40\n",
       "665407    16:17\n",
       "Name: time, Length: 665408, dtype: object"
      ]
     },
     "execution_count": 16,
     "metadata": {},
     "output_type": "execute_result"
    }
   ],
   "source": [
    "uk_accidents_df[\"time\"]"
   ]
  },
  {
   "cell_type": "code",
   "execution_count": 17,
   "id": "418395fe-b667-4b83-b797-94a01b4e41bf",
   "metadata": {},
   "outputs": [],
   "source": [
    "def convert_to_approx_hours(str):\n",
    "            hour = int(str[:2])\n",
    "            minute = int(str[-2:])\n",
    "            if minute > 30:\n",
    "                hour += 1\n",
    "            if hour == 24:\n",
    "                hour = 0\n",
    "            return hour\n",
    "\n",
    "def adjust_time(df):\n",
    "    df[\"time_rounded\"] = df[\"time\"].apply(convert_to_approx_hours)\n",
    "    return df.drop(columns = [\"time\"])"
   ]
  },
  {
   "cell_type": "code",
   "execution_count": 18,
   "id": "bf77b473-52d0-4c79-957d-aef6e594b6a7",
   "metadata": {},
   "outputs": [],
   "source": [
    "uk_accidents_df = adjust_time(uk_accidents_df)"
   ]
  },
  {
   "cell_type": "code",
   "execution_count": 19,
   "id": "4773216f-3c73-4310-96e9-b24a7c5c278e",
   "metadata": {},
   "outputs": [
    {
     "data": {
      "text/plain": [
       "0         18\n",
       "1         18\n",
       "2         18\n",
       "3         22\n",
       "4          2\n",
       "          ..\n",
       "665403     9\n",
       "665404    10\n",
       "665405    17\n",
       "665406    22\n",
       "665407    16\n",
       "Name: time_rounded, Length: 665408, dtype: int64"
      ]
     },
     "execution_count": 19,
     "metadata": {},
     "output_type": "execute_result"
    }
   ],
   "source": [
    "uk_accidents_df[\"time_rounded\"]"
   ]
  },
  {
   "cell_type": "markdown",
   "id": "16feb6a3-458e-4574-a70e-df908d266bce",
   "metadata": {},
   "source": [
    "Now let's take a look at the missing values:"
   ]
  },
  {
   "cell_type": "code",
   "execution_count": 20,
   "id": "74265638-2dcc-49d8-bff1-f3c6f75b6eb3",
   "metadata": {},
   "outputs": [],
   "source": [
    "missing_values_counts = {c : val for c, val in sorted({col : uk_accidents_df[col].isna().value_counts().get(True, 0) for col in uk_accidents_df.columns}.items(), key = lambda items: items[1], reverse = True)}"
   ]
  },
  {
   "cell_type": "code",
   "execution_count": 21,
   "id": "8565690e-6c50-46b4-aec5-7998208e9c1b",
   "metadata": {
    "scrolled": true
   },
   "outputs": [
    {
     "data": {
      "text/plain": [
       "{'dir_to_e': 609185,\n",
       " 'dir_to_n': 609185,\n",
       " 'dir_from_e': 608731,\n",
       " 'dir_from_n': 608731,\n",
       " 'local_authority_district': 397644,\n",
       " 'junction_control': 287576,\n",
       " 'engine_capacity_cc': 161113,\n",
       " 'age_of_vehicle': 156696,\n",
       " 'age_of_driver': 33417,\n",
       " 'age_of_casualty': 14549,\n",
       " 'age_band_of_casualty': 14549,\n",
       " 'vehicle_direction_to': 9231,\n",
       " 'vehicle_direction_from': 9114,\n",
       " 'special_conditions_at_site': 5842,\n",
       " 'carriageway_hazards': 5817,\n",
       " 'pedestrian_crossing_human_control': 5083,\n",
       " 'sex_of_casualty': 5052,\n",
       " 'pedestrian_crossing_physical_facilities': 5021,\n",
       " 'first_point_of_impact': 4880,\n",
       " 'skidding_and_overturning': 4251,\n",
       " 'vehicle_leaving_carriageway': 4243,\n",
       " 'hit_object_in_carriageway': 4171,\n",
       " 'vehicle_location_restricted_lane': 4157,\n",
       " 'vehicle_manoeuvre': 4115,\n",
       " 'towing_and_articulation': 3539,\n",
       " 'road_surface_conditions': 3245,\n",
       " 'car_passenger': 2929,\n",
       " 'junction_location': 1845,\n",
       " 'vehicle_left_hand_drive': 971,\n",
       " 'pedestrian_road_maintenance_worker': 918,\n",
       " 'hit_object_off_carriageway': 679,\n",
       " 'second_road_class': 643,\n",
       " 'vehicle_type': 301,\n",
       " 'bus_or_coach_passenger': 265,\n",
       " 'journey_purpose_of_driver': 121,\n",
       " 'speed_limit': 98,\n",
       " 'light_conditions': 18,\n",
       " 'weather_conditions': 18,\n",
       " 'pedestrian_location': 9,\n",
       " 'junction_detail': 6,\n",
       " 'pedestrian_movement': 6,\n",
       " 'sex_of_driver': 3,\n",
       " 'did_police_officer_attend_scene_of_accident': 1,\n",
       " 'accident_year': 0,\n",
       " 'accident_severity': 0,\n",
       " 'number_of_vehicles': 0,\n",
       " 'number_of_casualties': 0,\n",
       " 'day_of_week': 0,\n",
       " 'first_road_class': 0,\n",
       " 'road_type': 0,\n",
       " 'escooter_flag': 0,\n",
       " 'casualty_class': 0,\n",
       " 'casualty_severity': 0,\n",
       " 'day_of_month': 0,\n",
       " 'month': 0,\n",
       " 'time_rounded': 0}"
      ]
     },
     "execution_count": 21,
     "metadata": {},
     "output_type": "execute_result"
    }
   ],
   "source": [
    "missing_values_counts"
   ]
  },
  {
   "cell_type": "markdown",
   "id": "5a3ba3a5-768b-47de-aae4-f127175cc2af",
   "metadata": {},
   "source": [
    "Let's create a bar plot to better see the results we get:"
   ]
  },
  {
   "cell_type": "code",
   "execution_count": 22,
   "id": "225e5e50-3cdb-41b5-a4c2-a238db7043d9",
   "metadata": {},
   "outputs": [
    {
     "data": {
      "image/png": "[encoded data removed]",
      "text/plain": [
       "<Figure size 2000x2000 with 1 Axes>"
      ]
     },
     "metadata": {},
     "output_type": "display_data"
    }
   ],
   "source": [
    "plt.figure(figsize = (20, 20))\n",
    "sns.barplot(missing_values_counts, orient = \"h\")\n",
    "plt.show()"
   ]
  },
  {
   "cell_type": "markdown",
   "id": "36f46225-ada9-4e69-95cb-a76cd1ca0269",
   "metadata": {},
   "source": [
    "It looks like there are columns where more than half of the values are missing. Let's create a list with the names of the columns we have to remove:"
   ]
  },
  {
   "cell_type": "code",
   "execution_count": 23,
   "id": "6057c1c4-2708-476f-884a-17cfff6870f3",
   "metadata": {},
   "outputs": [],
   "source": [
    "cols_to_drop = [key for key, val in missing_values_counts.items() if val > 300000]"
   ]
  },
  {
   "cell_type": "markdown",
   "id": "26590342-2cf9-48eb-b85c-8b40ffa447ee",
   "metadata": {},
   "source": [
    "Now let's explore every other feature individually and see what we can do with it:"
   ]
  },
  {
   "cell_type": "code",
   "execution_count": 24,
   "id": "0a6f49f5-27fb-4083-af82-6b9ce845e4dd",
   "metadata": {},
   "outputs": [
    {
     "data": {
      "text/plain": [
       "junction_control\n",
       "NaN    287576\n",
       "4.0    285452\n",
       "2.0     74147\n",
       "9.0     11049\n",
       "3.0      4518\n",
       "1.0      2661\n",
       "0.0         5\n",
       "Name: count, dtype: int64"
      ]
     },
     "execution_count": 24,
     "metadata": {},
     "output_type": "execute_result"
    }
   ],
   "source": [
    "uk_accidents_df[\"junction_control\"].value_counts(dropna = False)"
   ]
  },
  {
   "cell_type": "markdown",
   "id": "f52534ca-1eac-4373-8e52-2f5363df9056",
   "metadata": {},
   "source": [
    "It also has many missing values so it's better to just remove it:"
   ]
  },
  {
   "cell_type": "code",
   "execution_count": 25,
   "id": "957b4640-8447-4636-b6ac-a2873a1223a3",
   "metadata": {},
   "outputs": [],
   "source": [
    "cols_to_drop.append(\"junction_control\")"
   ]
  },
  {
   "cell_type": "markdown",
   "id": "ef6a8706-091c-4f15-94dd-aeffaf329151",
   "metadata": {},
   "source": [
    "Now let's take a look at the engine capacity of each vehicle:"
   ]
  },
  {
   "cell_type": "code",
   "execution_count": 26,
   "id": "e2357fbb-dc84-47af-8675-281816ef22e2",
   "metadata": {},
   "outputs": [
    {
     "data": {
      "text/plain": [
       "count    504295.000000\n",
       "mean       1631.158153\n",
       "std        1259.034922\n",
       "min           2.000000\n",
       "25%        1198.000000\n",
       "50%        1499.000000\n",
       "75%        1968.000000\n",
       "max       29980.000000\n",
       "Name: engine_capacity_cc, dtype: float64"
      ]
     },
     "execution_count": 26,
     "metadata": {},
     "output_type": "execute_result"
    }
   ],
   "source": [
    "uk_accidents_df[\"engine_capacity_cc\"].describe()"
   ]
  },
  {
   "cell_type": "code",
   "execution_count": 27,
   "id": "24356eb9-f9a5-46f4-9f4d-0e9f8e95d782",
   "metadata": {},
   "outputs": [
    {
     "data": {
      "text/plain": [
       "1499.0"
      ]
     },
     "execution_count": 27,
     "metadata": {},
     "output_type": "execute_result"
    }
   ],
   "source": [
    "uk_accidents_df[\"engine_capacity_cc\"].median()"
   ]
  },
  {
   "cell_type": "markdown",
   "id": "a59b2569-e841-4083-878b-3e48a1eb5f6b",
   "metadata": {},
   "source": [
    "It makes the most sense to make imputations, based on vehicle type, because their engines differ vastly and also there are some vehicles, that just don't have engines. So let's take a look at the vehicle types as well:"
   ]
  },
  {
   "cell_type": "code",
   "execution_count": 28,
   "id": "a0aa0a4b-65bf-460f-94ed-434ecf26ba50",
   "metadata": {},
   "outputs": [
    {
     "data": {
      "text/plain": [
       "vehicle_type\n",
       "9.0     431020\n",
       "1.0      82449\n",
       "3.0      42632\n",
       "19.0     25843\n",
       "5.0      22671\n",
       "11.0     13927\n",
       "8.0      11348\n",
       "4.0       9604\n",
       "90.0      7395\n",
       "2.0       5654\n",
       "21.0      3273\n",
       "97.0      2101\n",
       "20.0      1549\n",
       "22.0      1374\n",
       "10.0      1157\n",
       "98.0      1155\n",
       "23.0      1010\n",
       "17.0       482\n",
       "16.0       360\n",
       "NaN        301\n",
       "18.0        68\n",
       "99.0        35\n",
       "Name: count, dtype: int64"
      ]
     },
     "execution_count": 28,
     "metadata": {},
     "output_type": "execute_result"
    }
   ],
   "source": [
    "uk_accidents_df[\"vehicle_type\"].value_counts(dropna = False)"
   ]
  },
  {
   "cell_type": "code",
   "execution_count": 29,
   "id": "da52a0ad-e199-4e71-8277-1e14778dc7a4",
   "metadata": {},
   "outputs": [
    {
     "name": "stderr",
     "output_type": "stream",
     "text": [
      "/home/gecata/.local/lib/python3.12/site-packages/numpy/lib/nanfunctions.py:1215: RuntimeWarning: Mean of empty slice\n",
      "  return np.nanmean(a, axis, out=out, keepdims=keepdims)\n",
      "/home/gecata/.local/lib/python3.12/site-packages/numpy/lib/nanfunctions.py:1215: RuntimeWarning: Mean of empty slice\n",
      "  return np.nanmean(a, axis, out=out, keepdims=keepdims)\n",
      "/home/gecata/.local/lib/python3.12/site-packages/numpy/lib/nanfunctions.py:1215: RuntimeWarning: Mean of empty slice\n",
      "  return np.nanmean(a, axis, out=out, keepdims=keepdims)\n",
      "/home/gecata/.local/lib/python3.12/site-packages/numpy/lib/nanfunctions.py:1215: RuntimeWarning: Mean of empty slice\n",
      "  return np.nanmean(a, axis, out=out, keepdims=keepdims)\n",
      "/home/gecata/.local/lib/python3.12/site-packages/numpy/lib/nanfunctions.py:1215: RuntimeWarning: Mean of empty slice\n",
      "  return np.nanmean(a, axis, out=out, keepdims=keepdims)\n"
     ]
    }
   ],
   "source": [
    "uk_accidents_df['engine_capacity_cc'] = uk_accidents_df.groupby('vehicle_type')['engine_capacity_cc'].transform(\n",
    "    lambda x: x.fillna(x.median())\n",
    ")"
   ]
  },
  {
   "cell_type": "code",
   "execution_count": 30,
   "id": "0bdfa3b8-9a49-46a3-8da9-ca089a3ed02f",
   "metadata": {},
   "outputs": [
    {
     "data": {
      "text/plain": [
       "count    580821.000000\n",
       "mean       1643.555770\n",
       "std        1267.844637\n",
       "min           2.000000\n",
       "25%        1200.000000\n",
       "50%        1560.000000\n",
       "75%        1968.000000\n",
       "max       29980.000000\n",
       "Name: engine_capacity_cc, dtype: float64"
      ]
     },
     "execution_count": 30,
     "metadata": {},
     "output_type": "execute_result"
    }
   ],
   "source": [
    "uk_accidents_df[\"engine_capacity_cc\"].describe()"
   ]
  },
  {
   "cell_type": "code",
   "execution_count": 31,
   "id": "59ba4007-07af-45d0-ac32-729d6aeee0ef",
   "metadata": {},
   "outputs": [
    {
     "data": {
      "text/plain": [
       "vehicle_type\n",
       "1.0     82449\n",
       "22.0     1374\n",
       "16.0      360\n",
       "18.0       68\n",
       "99.0       35\n",
       "Name: count, dtype: int64"
      ]
     },
     "execution_count": 31,
     "metadata": {},
     "output_type": "execute_result"
    }
   ],
   "source": [
    "uk_accidents_df[uk_accidents_df[\"engine_capacity_cc\"].isna()][\"vehicle_type\"].value_counts()"
   ]
  },
  {
   "cell_type": "markdown",
   "id": "e5a04758-6720-4c54-913d-ee198660277b",
   "metadata": {},
   "source": [
    "Here, we can see, that now only the vehicles with no engine have missing values for the capacity.\n",
    "\n",
    "Now let's take a look at the vehicle and driver age:"
   ]
  },
  {
   "cell_type": "code",
   "execution_count": 32,
   "id": "7545e448-b388-4187-8d85-2d8bcea5a7bb",
   "metadata": {},
   "outputs": [
    {
     "data": {
      "text/plain": [
       "count    508712.000000\n",
       "mean          8.391538\n",
       "std           5.882810\n",
       "min           0.000000\n",
       "25%           4.000000\n",
       "50%           8.000000\n",
       "75%          12.000000\n",
       "max         122.000000\n",
       "Name: age_of_vehicle, dtype: float64"
      ]
     },
     "execution_count": 32,
     "metadata": {},
     "output_type": "execute_result"
    }
   ],
   "source": [
    "uk_accidents_df[\"age_of_vehicle\"].describe()"
   ]
  },
  {
   "cell_type": "code",
   "execution_count": 33,
   "id": "534140e6-989a-46a0-901c-4ba75c20dcf2",
   "metadata": {},
   "outputs": [
    {
     "data": {
      "text/plain": [
       "8.0"
      ]
     },
     "execution_count": 33,
     "metadata": {},
     "output_type": "execute_result"
    }
   ],
   "source": [
    "uk_accidents_df[\"age_of_vehicle\"].median()"
   ]
  },
  {
   "cell_type": "markdown",
   "id": "082aa17e-4eda-4eae-af64-ceec290d453f",
   "metadata": {},
   "source": [
    "Let's set the age of every missing vehicle to 8:"
   ]
  },
  {
   "cell_type": "code",
   "execution_count": 34,
   "id": "e39a3610-7d1f-4467-889f-ec554d0c2d78",
   "metadata": {},
   "outputs": [],
   "source": [
    "uk_accidents_df.loc[uk_accidents_df[\"age_of_vehicle\"].isna(), \"age_of_vehicle\"] = 8"
   ]
  },
  {
   "cell_type": "code",
   "execution_count": 35,
   "id": "df06ff66-c4e5-417c-b1ad-1aae34c77de6",
   "metadata": {},
   "outputs": [
    {
     "data": {
      "text/plain": [
       "count    631991.000000\n",
       "mean         40.005633\n",
       "std          16.803612\n",
       "min           1.000000\n",
       "25%          27.000000\n",
       "50%          37.000000\n",
       "75%          51.000000\n",
       "max         101.000000\n",
       "Name: age_of_driver, dtype: float64"
      ]
     },
     "execution_count": 35,
     "metadata": {},
     "output_type": "execute_result"
    }
   ],
   "source": [
    "uk_accidents_df[\"age_of_driver\"].describe()"
   ]
  },
  {
   "cell_type": "code",
   "execution_count": 36,
   "id": "7b4ef07a-1433-4fb6-a67e-47251e46ed60",
   "metadata": {},
   "outputs": [
    {
     "data": {
      "text/plain": [
       "37.0"
      ]
     },
     "execution_count": 36,
     "metadata": {},
     "output_type": "execute_result"
    }
   ],
   "source": [
    "uk_accidents_df[\"age_of_driver\"].median()"
   ]
  },
  {
   "cell_type": "code",
   "execution_count": 37,
   "id": "605cf079-8003-43aa-bffc-18077a428314",
   "metadata": {},
   "outputs": [],
   "source": [
    "uk_accidents_df.loc[uk_accidents_df[\"age_of_driver\"].isna(), \"age_of_driver\"] = 37"
   ]
  },
  {
   "cell_type": "code",
   "execution_count": 38,
   "id": "7bac780c-e351-497b-892b-a2defe22d593",
   "metadata": {},
   "outputs": [
    {
     "data": {
      "text/plain": [
       "count    650859.000000\n",
       "mean         37.653261\n",
       "std          18.896579\n",
       "min           0.000000\n",
       "25%          23.000000\n",
       "50%          34.000000\n",
       "75%          51.000000\n",
       "max         102.000000\n",
       "Name: age_of_casualty, dtype: float64"
      ]
     },
     "execution_count": 38,
     "metadata": {},
     "output_type": "execute_result"
    }
   ],
   "source": [
    "uk_accidents_df[\"age_of_casualty\"].describe()"
   ]
  },
  {
   "cell_type": "code",
   "execution_count": 39,
   "id": "b0c89c01-73e9-4de1-9bf6-06d96d4bccc7",
   "metadata": {},
   "outputs": [
    {
     "data": {
      "text/plain": [
       "34.0"
      ]
     },
     "execution_count": 39,
     "metadata": {},
     "output_type": "execute_result"
    }
   ],
   "source": [
    "uk_accidents_df[\"age_of_casualty\"].median()"
   ]
  },
  {
   "cell_type": "code",
   "execution_count": 40,
   "id": "280f4024-8bc4-4ecc-a1c2-97d16dbae35b",
   "metadata": {},
   "outputs": [],
   "source": [
    "uk_accidents_df.loc[uk_accidents_df[\"age_of_driver\"].isna(), \"age_of_driver\"] = 34"
   ]
  },
  {
   "cell_type": "markdown",
   "id": "c0601adb-1e08-4135-933e-a985fd810c7c",
   "metadata": {},
   "source": [
    "Now for the other columns, most often a missing value is encoded with either \"9\" or \"99\". Let's create two lists for the columns where these values should be remapped to -1."
   ]
  },
  {
   "cell_type": "code",
   "execution_count": 41,
   "id": "23e9199e-82bb-4018-90ae-03461e3660a8",
   "metadata": {},
   "outputs": [],
   "source": [
    "to_remap_9_and_nan_to_minus_1 = []\n",
    "to_remap_99_and_nan_to_minus_1 = []"
   ]
  },
  {
   "cell_type": "code",
   "execution_count": 42,
   "id": "cbe5fa97-47a4-403c-b395-a028a9ef56a7",
   "metadata": {},
   "outputs": [
    {
     "data": {
      "text/plain": [
       "carriageway_hazards\n",
       "0.0    635883\n",
       "9.0     10021\n",
       "2.0      7066\n",
       "NaN      5817\n",
       "7.0      2096\n",
       "1.0      1646\n",
       "3.0      1613\n",
       "6.0      1266\n",
       "Name: count, dtype: int64"
      ]
     },
     "execution_count": 42,
     "metadata": {},
     "output_type": "execute_result"
    }
   ],
   "source": [
    "uk_accidents_df[\"carriageway_hazards\"].value_counts(dropna = False)"
   ]
  },
  {
   "cell_type": "code",
   "execution_count": 43,
   "id": "f1b20c25-7d03-4203-a225-8663f37b3d70",
   "metadata": {},
   "outputs": [],
   "source": [
    "to_remap_9_and_nan_to_minus_1.append(\"carriageway_hazards\")"
   ]
  },
  {
   "cell_type": "code",
   "execution_count": 44,
   "id": "ee413a5c-a9e4-4b89-bf75-66bf8363e4ea",
   "metadata": {},
   "outputs": [
    {
     "data": {
      "text/plain": [
       "special_conditions_at_site\n",
       "0.0    632205\n",
       "9.0     11580\n",
       "4.0      8415\n",
       "NaN      5842\n",
       "1.0      1840\n",
       "7.0      1693\n",
       "5.0      1421\n",
       "3.0      1158\n",
       "6.0       944\n",
       "2.0       310\n",
       "Name: count, dtype: int64"
      ]
     },
     "execution_count": 44,
     "metadata": {},
     "output_type": "execute_result"
    }
   ],
   "source": [
    "uk_accidents_df[\"special_conditions_at_site\"].value_counts(dropna = False)"
   ]
  },
  {
   "cell_type": "code",
   "execution_count": 45,
   "id": "612117b2-5e36-4016-9c1d-2a302aa502d5",
   "metadata": {},
   "outputs": [],
   "source": [
    "to_remap_9_and_nan_to_minus_1.append(\"special_conditions_at_site\")"
   ]
  },
  {
   "cell_type": "code",
   "execution_count": 46,
   "id": "c197e6f3-0a25-4236-b9d5-4038f5f03e41",
   "metadata": {},
   "outputs": [
    {
     "data": {
      "text/plain": [
       "pedestrian_crossing_human_control\n",
       "0.0    628024\n",
       "9.0     22283\n",
       "2.0      7373\n",
       "NaN      5083\n",
       "1.0      2645\n",
       "Name: count, dtype: int64"
      ]
     },
     "execution_count": 46,
     "metadata": {},
     "output_type": "execute_result"
    }
   ],
   "source": [
    "uk_accidents_df[\"pedestrian_crossing_human_control\"].value_counts(dropna = False)"
   ]
  },
  {
   "cell_type": "code",
   "execution_count": 47,
   "id": "fe45a230-e686-42b0-bc25-0c86ad805530",
   "metadata": {},
   "outputs": [],
   "source": [
    "to_remap_9_and_nan_to_minus_1.append(\"pedestrian_crossing_human_control\")"
   ]
  },
  {
   "cell_type": "code",
   "execution_count": 48,
   "id": "9ea4014f-29d1-49ab-b890-e0fe94d2ad10",
   "metadata": {},
   "outputs": [
    {
     "data": {
      "text/plain": [
       "pedestrian_crossing_physical_facilities\n",
       "0.0    510615\n",
       "5.0     51429\n",
       "4.0     35891\n",
       "1.0     25642\n",
       "9.0     19082\n",
       "8.0     16140\n",
       "NaN      5021\n",
       "7.0      1588\n",
       "Name: count, dtype: int64"
      ]
     },
     "execution_count": 48,
     "metadata": {},
     "output_type": "execute_result"
    }
   ],
   "source": [
    "uk_accidents_df[\"pedestrian_crossing_physical_facilities\"].value_counts(dropna = False)"
   ]
  },
  {
   "cell_type": "code",
   "execution_count": 49,
   "id": "da6bf219-13ac-4f14-806b-65e4085de659",
   "metadata": {},
   "outputs": [],
   "source": [
    "to_remap_9_and_nan_to_minus_1.append(\"pedestrian_crossing_physical_facilities\")"
   ]
  },
  {
   "cell_type": "code",
   "execution_count": 50,
   "id": "0ff127a5-ea2c-4820-9eb0-f24a3e09b2fa",
   "metadata": {},
   "outputs": [
    {
     "data": {
      "text/plain": [
       "vehicle_direction_from\n",
       "1.0    105245\n",
       "5.0     99527\n",
       "3.0     91269\n",
       "7.0     87586\n",
       "6.0     56480\n",
       "2.0     56231\n",
       "4.0     53681\n",
       "8.0     53085\n",
       "9.0     44645\n",
       "NaN      9114\n",
       "0.0      8545\n",
       "Name: count, dtype: int64"
      ]
     },
     "execution_count": 50,
     "metadata": {},
     "output_type": "execute_result"
    }
   ],
   "source": [
    "uk_accidents_df[\"vehicle_direction_from\"].value_counts(dropna = False)"
   ]
  },
  {
   "cell_type": "code",
   "execution_count": 51,
   "id": "b5712fab-3dcd-43bc-84d0-50d4743f5c7d",
   "metadata": {},
   "outputs": [],
   "source": [
    "to_remap_9_and_nan_to_minus_1.append(\"vehicle_direction_from\")"
   ]
  },
  {
   "cell_type": "code",
   "execution_count": 52,
   "id": "6df95698-9423-432a-9691-c33b884cb191",
   "metadata": {},
   "outputs": [
    {
     "data": {
      "text/plain": [
       "vehicle_direction_to\n",
       "5.0    99891\n",
       "1.0    99618\n",
       "7.0    90508\n",
       "3.0    90288\n",
       "2.0    59172\n",
       "6.0    56063\n",
       "4.0    54288\n",
       "8.0    54104\n",
       "9.0    44644\n",
       "NaN     9231\n",
       "0.0     7601\n",
       "Name: count, dtype: int64"
      ]
     },
     "execution_count": 52,
     "metadata": {},
     "output_type": "execute_result"
    }
   ],
   "source": [
    "uk_accidents_df[\"vehicle_direction_to\"].value_counts(dropna = False)"
   ]
  },
  {
   "cell_type": "code",
   "execution_count": 53,
   "id": "b09d1b1e-c476-4047-ac6f-5f9d86aebc04",
   "metadata": {},
   "outputs": [],
   "source": [
    "to_remap_9_and_nan_to_minus_1.append(\"vehicle_direction_to\")"
   ]
  },
  {
   "cell_type": "code",
   "execution_count": 54,
   "id": "3ad7aaca-1885-4860-bd50-6b5b31366a0a",
   "metadata": {},
   "outputs": [
    {
     "data": {
      "text/plain": [
       "first_point_of_impact\n",
       "1.0    333891\n",
       "2.0    115073\n",
       "3.0     84572\n",
       "4.0     81788\n",
       "0.0     25211\n",
       "9.0     19993\n",
       "NaN      4880\n",
       "Name: count, dtype: int64"
      ]
     },
     "execution_count": 54,
     "metadata": {},
     "output_type": "execute_result"
    }
   ],
   "source": [
    "uk_accidents_df[\"first_point_of_impact\"].value_counts(dropna = False)"
   ]
  },
  {
   "cell_type": "code",
   "execution_count": 55,
   "id": "31f95545-2af9-449f-b63f-c4aa1abfbff7",
   "metadata": {},
   "outputs": [],
   "source": [
    "to_remap_9_and_nan_to_minus_1.append(\"first_point_of_impact\")"
   ]
  },
  {
   "cell_type": "code",
   "execution_count": 56,
   "id": "7a433a2e-80b6-4da2-a084-9ad78969ec1a",
   "metadata": {},
   "outputs": [
    {
     "data": {
      "text/plain": [
       "sex_of_casualty\n",
       "1.0    406424\n",
       "2.0    253889\n",
       "NaN      5052\n",
       "9.0        43\n",
       "Name: count, dtype: int64"
      ]
     },
     "execution_count": 56,
     "metadata": {},
     "output_type": "execute_result"
    }
   ],
   "source": [
    "uk_accidents_df[\"sex_of_casualty\"].value_counts(dropna = False)"
   ]
  },
  {
   "cell_type": "code",
   "execution_count": 57,
   "id": "9adcf974-5ac6-41bf-b651-aa826d8e916b",
   "metadata": {},
   "outputs": [],
   "source": [
    "to_remap_9_and_nan_to_minus_1.append(\"sex_of_casualty\")"
   ]
  },
  {
   "cell_type": "code",
   "execution_count": 58,
   "id": "8e6a781c-16e8-477a-86f0-e24115656ad7",
   "metadata": {},
   "outputs": [
    {
     "data": {
      "text/plain": [
       "vehicle_leaving_carriageway\n",
       "0.0    513156\n",
       "1.0     55226\n",
       "9.0     42912\n",
       "7.0     27632\n",
       "2.0      7222\n",
       "3.0      5107\n",
       "NaN      4243\n",
       "8.0      3801\n",
       "4.0      3119\n",
       "5.0      2053\n",
       "6.0       937\n",
       "Name: count, dtype: int64"
      ]
     },
     "execution_count": 58,
     "metadata": {},
     "output_type": "execute_result"
    }
   ],
   "source": [
    "uk_accidents_df[\"vehicle_leaving_carriageway\"].value_counts(dropna = False)"
   ]
  },
  {
   "cell_type": "code",
   "execution_count": 59,
   "id": "4f1252c2-46a2-4a80-baed-44f25447d847",
   "metadata": {},
   "outputs": [],
   "source": [
    "to_remap_9_and_nan_to_minus_1.append(\"vehicle_leaving_carriageway\")"
   ]
  },
  {
   "cell_type": "code",
   "execution_count": 60,
   "id": "b181bc85-4c38-4731-a6be-4b01bc1b2a03",
   "metadata": {},
   "outputs": [
    {
     "data": {
      "text/plain": [
       "skidding_and_overturning\n",
       "0.0    517669\n",
       "1.0     52966\n",
       "9.0     43801\n",
       "5.0     27365\n",
       "2.0     19101\n",
       "NaN      4251\n",
       "3.0       147\n",
       "4.0       108\n",
       "Name: count, dtype: int64"
      ]
     },
     "execution_count": 60,
     "metadata": {},
     "output_type": "execute_result"
    }
   ],
   "source": [
    "uk_accidents_df[\"skidding_and_overturning\"].value_counts(dropna = False)"
   ]
  },
  {
   "cell_type": "code",
   "execution_count": 61,
   "id": "26522f8e-b25b-4487-bc95-c7a731f45db1",
   "metadata": {},
   "outputs": [],
   "source": [
    "to_remap_9_and_nan_to_minus_1.append(\"skidding_and_overturning\")"
   ]
  },
  {
   "cell_type": "code",
   "execution_count": 62,
   "id": "532c3e6c-3011-4436-95b1-964034a69640",
   "metadata": {},
   "outputs": [
    {
     "data": {
      "text/plain": [
       "hit_object_in_carriageway\n",
       "0.0     573062\n",
       "99.0     43258\n",
       "10.0     15271\n",
       "4.0      14310\n",
       "7.0       5503\n",
       "11.0      4479\n",
       "NaN       4171\n",
       "9.0       1287\n",
       "12.0      1156\n",
       "8.0        955\n",
       "6.0        750\n",
       "2.0        527\n",
       "1.0        490\n",
       "5.0        189\n",
       "Name: count, dtype: int64"
      ]
     },
     "execution_count": 62,
     "metadata": {},
     "output_type": "execute_result"
    }
   ],
   "source": [
    "uk_accidents_df[\"hit_object_in_carriageway\"].value_counts(dropna = False)"
   ]
  },
  {
   "cell_type": "code",
   "execution_count": 63,
   "id": "70b2bf9f-8a67-455a-a924-001cf34f78af",
   "metadata": {},
   "outputs": [],
   "source": [
    "to_remap_99_and_nan_to_minus_1.append(\"hit_object_in_carriageway\")"
   ]
  },
  {
   "cell_type": "code",
   "execution_count": 64,
   "id": "ccfa176e-de6c-441a-9d13-2a7b6bdaaaf0",
   "metadata": {},
   "outputs": [
    {
     "data": {
      "text/plain": [
       "vehicle_location_restricted_lane\n",
       "0.0     595335\n",
       "99.0     42448\n",
       "9.0      11464\n",
       "NaN       4157\n",
       "2.0       3565\n",
       "4.0       3416\n",
       "6.0       1564\n",
       "5.0       1383\n",
       "8.0        690\n",
       "1.0        622\n",
       "7.0        427\n",
       "3.0        337\n",
       "Name: count, dtype: int64"
      ]
     },
     "execution_count": 64,
     "metadata": {},
     "output_type": "execute_result"
    }
   ],
   "source": [
    "uk_accidents_df[\"vehicle_location_restricted_lane\"].value_counts(dropna = False)"
   ]
  },
  {
   "cell_type": "code",
   "execution_count": 65,
   "id": "6dd03fd7-e6e2-47f5-afa6-fdb6342fe9b5",
   "metadata": {},
   "outputs": [],
   "source": [
    "to_remap_99_and_nan_to_minus_1.append(\"vehicle_location_restricted_lane\")"
   ]
  },
  {
   "cell_type": "code",
   "execution_count": 66,
   "id": "5e941ec0-5ecc-421e-a103-e36c2ff6ab91",
   "metadata": {},
   "outputs": [
    {
     "data": {
      "text/plain": [
       "vehicle_manoeuvre\n",
       "18.0    349327\n",
       "9.0      43612\n",
       "99.0     43587\n",
       "4.0      37707\n",
       "3.0      32519\n",
       "17.0     28062\n",
       "5.0      25547\n",
       "16.0     23911\n",
       "7.0      16015\n",
       "13.0     11682\n",
       "2.0       9084\n",
       "10.0      7966\n",
       "1.0       7461\n",
       "14.0      7173\n",
       "15.0      4860\n",
       "NaN       4115\n",
       "12.0      3887\n",
       "11.0      3256\n",
       "8.0       3044\n",
       "6.0       2593\n",
       "Name: count, dtype: int64"
      ]
     },
     "execution_count": 66,
     "metadata": {},
     "output_type": "execute_result"
    }
   ],
   "source": [
    "uk_accidents_df[\"vehicle_manoeuvre\"].value_counts(dropna = False)"
   ]
  },
  {
   "cell_type": "code",
   "execution_count": 67,
   "id": "2a37773d-144a-4fa9-b7bc-3b62b4053015",
   "metadata": {},
   "outputs": [],
   "source": [
    "to_remap_99_and_nan_to_minus_1.append(\"vehicle_manoeuvre\")"
   ]
  },
  {
   "cell_type": "code",
   "execution_count": 68,
   "id": "2a40a15d-a180-4257-8023-e4b1883b68f8",
   "metadata": {},
   "outputs": [
    {
     "data": {
      "text/plain": [
       "road_surface_conditions\n",
       "1.0    472069\n",
       "2.0    172925\n",
       "4.0      8226\n",
       "9.0      5991\n",
       "NaN      3245\n",
       "3.0      1815\n",
       "5.0      1137\n",
       "Name: count, dtype: int64"
      ]
     },
     "execution_count": 68,
     "metadata": {},
     "output_type": "execute_result"
    }
   ],
   "source": [
    "uk_accidents_df[\"road_surface_conditions\"].value_counts(dropna = False)"
   ]
  },
  {
   "cell_type": "code",
   "execution_count": 69,
   "id": "deaeca99-c346-421f-a2d2-e0b35f6c6857",
   "metadata": {},
   "outputs": [],
   "source": [
    "to_remap_9_and_nan_to_minus_1.append(\"road_surface_conditions\")"
   ]
  },
  {
   "cell_type": "code",
   "execution_count": 70,
   "id": "eb53130a-558f-43ca-8f3e-5291d0bf9a7d",
   "metadata": {},
   "outputs": [
    {
     "data": {
      "text/plain": [
       "towing_and_articulation\n",
       "0.0    642784\n",
       "9.0     15072\n",
       "NaN      3539\n",
       "1.0      1515\n",
       "4.0      1271\n",
       "5.0       772\n",
       "3.0       413\n",
       "2.0        42\n",
       "Name: count, dtype: int64"
      ]
     },
     "execution_count": 70,
     "metadata": {},
     "output_type": "execute_result"
    }
   ],
   "source": [
    "uk_accidents_df[\"towing_and_articulation\"].value_counts(dropna = False)"
   ]
  },
  {
   "cell_type": "code",
   "execution_count": 71,
   "id": "3458cecc-f597-40ee-8c10-407287f024a0",
   "metadata": {},
   "outputs": [],
   "source": [
    "to_remap_9_and_nan_to_minus_1.append(\"towing_and_articulation\")"
   ]
  },
  {
   "cell_type": "code",
   "execution_count": 72,
   "id": "99745afd-59d3-4926-ba49-da2fc4dd2c50",
   "metadata": {},
   "outputs": [
    {
     "data": {
      "text/plain": [
       "car_passenger\n",
       "0.0    552109\n",
       "1.0     68742\n",
       "2.0     40856\n",
       "NaN      2929\n",
       "9.0       772\n",
       "Name: count, dtype: int64"
      ]
     },
     "execution_count": 72,
     "metadata": {},
     "output_type": "execute_result"
    }
   ],
   "source": [
    "uk_accidents_df[\"car_passenger\"].value_counts(dropna = False)"
   ]
  },
  {
   "cell_type": "code",
   "execution_count": 73,
   "id": "8cbb57e6-c1b3-407c-965e-9404d69fab55",
   "metadata": {},
   "outputs": [],
   "source": [
    "to_remap_9_and_nan_to_minus_1.append(\"car_passenger\")"
   ]
  },
  {
   "cell_type": "code",
   "execution_count": 74,
   "id": "7e2fb9c3-a163-4475-9d8e-8885e38170b7",
   "metadata": {},
   "outputs": [
    {
     "data": {
      "text/plain": [
       "junction_location\n",
       "0.0    284396\n",
       "1.0    144984\n",
       "8.0    105380\n",
       "2.0     35135\n",
       "9.0     34174\n",
       "6.0     20050\n",
       "4.0     14361\n",
       "5.0     11765\n",
       "3.0     11468\n",
       "7.0      1850\n",
       "NaN      1845\n",
       "Name: count, dtype: int64"
      ]
     },
     "execution_count": 74,
     "metadata": {},
     "output_type": "execute_result"
    }
   ],
   "source": [
    "uk_accidents_df[\"junction_location\"].value_counts(dropna = False)"
   ]
  },
  {
   "cell_type": "code",
   "execution_count": 75,
   "id": "2e488d34-e0a5-4092-96c7-df50282349c8",
   "metadata": {},
   "outputs": [],
   "source": [
    "to_remap_9_and_nan_to_minus_1.append(\"junction_location\")"
   ]
  },
  {
   "cell_type": "code",
   "execution_count": 76,
   "id": "686cdd83-af31-42fe-9433-30ec1a178333",
   "metadata": {
    "scrolled": true
   },
   "outputs": [
    {
     "data": {
      "text/plain": [
       "vehicle_type\n",
       "9.0     431020\n",
       "1.0      82449\n",
       "3.0      42632\n",
       "19.0     25843\n",
       "5.0      22671\n",
       "11.0     13927\n",
       "8.0      11348\n",
       "4.0       9604\n",
       "90.0      7395\n",
       "2.0       5654\n",
       "21.0      3273\n",
       "97.0      2101\n",
       "20.0      1549\n",
       "22.0      1374\n",
       "10.0      1157\n",
       "98.0      1155\n",
       "23.0      1010\n",
       "17.0       482\n",
       "16.0       360\n",
       "NaN        301\n",
       "18.0        68\n",
       "99.0        35\n",
       "Name: count, dtype: int64"
      ]
     },
     "execution_count": 76,
     "metadata": {},
     "output_type": "execute_result"
    }
   ],
   "source": [
    "uk_accidents_df[\"vehicle_type\"].value_counts(dropna = False)"
   ]
  },
  {
   "cell_type": "markdown",
   "id": "96c3ab6a-ba58-4d29-b964-3ca10eff61f2",
   "metadata": {},
   "source": [
    "Vehicle type is very important and 336 samples isn't a really significant number so we are going to just remove them:"
   ]
  },
  {
   "cell_type": "code",
   "execution_count": 77,
   "id": "d0aa9586-8a2c-4434-90bd-305751112aab",
   "metadata": {},
   "outputs": [],
   "source": [
    "uk_accidents_df.loc[uk_accidents_df[\"vehicle_type\"] == 99, \"vehicle_type\"] = - 1\n",
    "uk_accidents_df.loc[uk_accidents_df[\"vehicle_type\"].isna(), \"vehicle_type\"] = - 1"
   ]
  },
  {
   "cell_type": "code",
   "execution_count": 78,
   "id": "14410b78-d942-4357-96ed-961432771982",
   "metadata": {},
   "outputs": [
    {
     "data": {
      "text/plain": [
       "second_road_class\n",
       "0.0    284102\n",
       "6.0    264707\n",
       "3.0     67425\n",
       "4.0     26425\n",
       "5.0     19272\n",
       "1.0      2548\n",
       "NaN       643\n",
       "2.0       286\n",
       "Name: count, dtype: int64"
      ]
     },
     "execution_count": 78,
     "metadata": {},
     "output_type": "execute_result"
    }
   ],
   "source": [
    "uk_accidents_df[\"second_road_class\"].value_counts(dropna = False)"
   ]
  },
  {
   "cell_type": "markdown",
   "id": "e75d9a25-ce07-4be2-9d50-29d384c6e84e",
   "metadata": {},
   "source": [
    "For this specific column, 6 is the missing value so we are going to change it here:"
   ]
  },
  {
   "cell_type": "code",
   "execution_count": 79,
   "id": "10323ef0-8004-4fa8-90e7-34df31ef3f33",
   "metadata": {},
   "outputs": [],
   "source": [
    "uk_accidents_df.loc[uk_accidents_df[\"second_road_class\"] == 6, \"second_road_class\"] = -1\n",
    "uk_accidents_df.loc[uk_accidents_df[\"second_road_class\"].isna(), \"second_road_class\"] = -1"
   ]
  },
  {
   "cell_type": "code",
   "execution_count": 80,
   "id": "2984a1de-77f0-4d19-a259-054297ba7bc6",
   "metadata": {},
   "outputs": [
    {
     "data": {
      "text/plain": [
       "bus_or_coach_passenger\n",
       "0.0    655517\n",
       "4.0      5961\n",
       "3.0      2588\n",
       "2.0       554\n",
       "1.0       437\n",
       "NaN       265\n",
       "9.0        86\n",
       "Name: count, dtype: int64"
      ]
     },
     "execution_count": 80,
     "metadata": {},
     "output_type": "execute_result"
    }
   ],
   "source": [
    "uk_accidents_df[\"bus_or_coach_passenger\"].value_counts(dropna = False)"
   ]
  },
  {
   "cell_type": "code",
   "execution_count": 81,
   "id": "57550c7b-97be-4eb0-9fbf-bc7b6997a656",
   "metadata": {},
   "outputs": [],
   "source": [
    "to_remap_9_and_nan_to_minus_1.append(\"bus_or_coach_passenger\")"
   ]
  },
  {
   "cell_type": "code",
   "execution_count": 82,
   "id": "4c2853be-7b8e-4ee8-872f-6e81be13b3af",
   "metadata": {},
   "outputs": [
    {
     "data": {
      "text/plain": [
       "junction_detail\n",
       "0.0     284357\n",
       "3.0     181342\n",
       "6.0      64692\n",
       "1.0      48692\n",
       "9.0      35105\n",
       "8.0      14116\n",
       "99.0      9844\n",
       "7.0       9529\n",
       "2.0       9150\n",
       "5.0       8575\n",
       "NaN          6\n",
       "Name: count, dtype: int64"
      ]
     },
     "execution_count": 82,
     "metadata": {},
     "output_type": "execute_result"
    }
   ],
   "source": [
    "uk_accidents_df[\"junction_detail\"].value_counts(dropna = False)"
   ]
  },
  {
   "cell_type": "code",
   "execution_count": 83,
   "id": "6ea102df-c997-4406-86b3-642976fd0807",
   "metadata": {},
   "outputs": [],
   "source": [
    "to_remap_99_and_nan_to_minus_1.append(\"junction_detail\")"
   ]
  },
  {
   "cell_type": "code",
   "execution_count": 84,
   "id": "edacae5c-05a4-4ee4-a925-d9ffa7c9f7cb",
   "metadata": {},
   "outputs": [
    {
     "data": {
      "text/plain": [
       "pedestrian_location\n",
       "0.0     573638\n",
       "5.0      34885\n",
       "1.0      15161\n",
       "6.0      10951\n",
       "9.0       9460\n",
       "10.0      9031\n",
       "4.0       5615\n",
       "8.0       5497\n",
       "7.0        603\n",
       "2.0        361\n",
       "3.0        197\n",
       "NaN          9\n",
       "Name: count, dtype: int64"
      ]
     },
     "execution_count": 84,
     "metadata": {},
     "output_type": "execute_result"
    }
   ],
   "source": [
    "uk_accidents_df[\"pedestrian_location\"].value_counts(dropna = False)"
   ]
  },
  {
   "cell_type": "code",
   "execution_count": 85,
   "id": "078d9d2c-970b-4689-a4aa-dfbfb19fef48",
   "metadata": {},
   "outputs": [],
   "source": [
    "uk_accidents_df.loc[uk_accidents_df[\"pedestrian_location\"] == 10, \"pedestrian_location\"] = np.nan\n",
    "uk_accidents_df = uk_accidents_df.drop(uk_accidents_df[uk_accidents_df[\"pedestrian_location\"].isna()].index)"
   ]
  },
  {
   "cell_type": "code",
   "execution_count": 86,
   "id": "6e5e41ef-b721-48ea-9b29-91f4915d0806",
   "metadata": {},
   "outputs": [
    {
     "data": {
      "text/plain": [
       "pedestrian_movement\n",
       "0.0    573635\n",
       "1.0     27993\n",
       "9.0     19221\n",
       "3.0     18286\n",
       "5.0      4502\n",
       "2.0      4486\n",
       "4.0      3277\n",
       "8.0      2289\n",
       "7.0      2030\n",
       "6.0       649\n",
       "Name: count, dtype: int64"
      ]
     },
     "execution_count": 86,
     "metadata": {},
     "output_type": "execute_result"
    }
   ],
   "source": [
    "uk_accidents_df[\"pedestrian_movement\"].value_counts(dropna = False)"
   ]
  },
  {
   "cell_type": "code",
   "execution_count": 87,
   "id": "e718e495-6116-4911-a1a3-d02b0bfb4d40",
   "metadata": {},
   "outputs": [],
   "source": [
    "to_remap_9_and_nan_to_minus_1.append(\"pedestrian_movement\")"
   ]
  },
  {
   "cell_type": "code",
   "execution_count": 88,
   "id": "3b3cdc94-f6f6-42ce-a78f-8717cd6cfa33",
   "metadata": {},
   "outputs": [
    {
     "data": {
      "text/plain": [
       "first_road_class\n",
       "3    299691\n",
       "6    217842\n",
       "4     82860\n",
       "5     29572\n",
       "1     24337\n",
       "2      2066\n",
       "Name: count, dtype: int64"
      ]
     },
     "execution_count": 88,
     "metadata": {},
     "output_type": "execute_result"
    }
   ],
   "source": [
    "uk_accidents_df[\"first_road_class\"].value_counts(dropna = False)"
   ]
  },
  {
   "cell_type": "code",
   "execution_count": 89,
   "id": "82082785-e86d-493d-8ca7-25793a97538d",
   "metadata": {},
   "outputs": [],
   "source": [
    "uk_accidents_df.loc[uk_accidents_df[\"first_road_class\"] == 6, \"first_road_class\"] = -1\n",
    "uk_accidents_df.loc[uk_accidents_df[\"first_road_class\"].isna(), \"first_road_class\"] = -1\n"
   ]
  },
  {
   "cell_type": "code",
   "execution_count": 90,
   "id": "21dd7d19-432c-43f2-9271-a51d8b2ec811",
   "metadata": {},
   "outputs": [
    {
     "data": {
      "text/plain": [
       "road_type\n",
       "6    473701\n",
       "3    108585\n",
       "1     36641\n",
       "9     12998\n",
       "2     12600\n",
       "7     11843\n",
       "Name: count, dtype: int64"
      ]
     },
     "execution_count": 90,
     "metadata": {},
     "output_type": "execute_result"
    }
   ],
   "source": [
    "uk_accidents_df[\"road_type\"].value_counts(dropna = False)"
   ]
  },
  {
   "cell_type": "code",
   "execution_count": 91,
   "id": "db16309e-a5ff-4055-8748-cc6f58089246",
   "metadata": {},
   "outputs": [],
   "source": [
    "to_remap_9_and_nan_to_minus_1.append(\"road_type\")"
   ]
  },
  {
   "cell_type": "code",
   "execution_count": 92,
   "id": "55dcc6bd-c9c3-480e-bd39-49410900191d",
   "metadata": {},
   "outputs": [
    {
     "data": {
      "text/plain": [
       "weather_conditions\n",
       "1.0    523325\n",
       "2.0     77571\n",
       "8.0     18477\n",
       "9.0     15937\n",
       "5.0      8252\n",
       "4.0      7064\n",
       "7.0      2896\n",
       "3.0      2411\n",
       "6.0       417\n",
       "NaN        18\n",
       "Name: count, dtype: int64"
      ]
     },
     "execution_count": 92,
     "metadata": {},
     "output_type": "execute_result"
    }
   ],
   "source": [
    "uk_accidents_df[\"weather_conditions\"].value_counts(dropna = False)"
   ]
  },
  {
   "cell_type": "code",
   "execution_count": 93,
   "id": "1abb180c-b60f-458a-aba7-61a67784ab29",
   "metadata": {},
   "outputs": [],
   "source": [
    "to_remap_9_and_nan_to_minus_1.append(\"weather_conditions\")"
   ]
  },
  {
   "cell_type": "code",
   "execution_count": 94,
   "id": "4292b6fb-fcc8-4290-98d5-94212f16375f",
   "metadata": {},
   "outputs": [
    {
     "data": {
      "text/plain": [
       "vehicle_left_hand_drive\n",
       "1.0    629780\n",
       "9.0     21697\n",
       "2.0      3926\n",
       "NaN       965\n",
       "Name: count, dtype: int64"
      ]
     },
     "execution_count": 94,
     "metadata": {},
     "output_type": "execute_result"
    }
   ],
   "source": [
    "uk_accidents_df[\"vehicle_left_hand_drive\"].value_counts(dropna = False)"
   ]
  },
  {
   "cell_type": "code",
   "execution_count": 95,
   "id": "0b8bd380-5670-4157-beb3-fd837eefaf1c",
   "metadata": {},
   "outputs": [],
   "source": [
    "to_remap_9_and_nan_to_minus_1.append(\"vehicle_left_hand_drive\")"
   ]
  },
  {
   "cell_type": "code",
   "execution_count": 96,
   "id": "4b34ff53-ddd2-4c18-bf4e-57b28f14359e",
   "metadata": {},
   "outputs": [
    {
     "data": {
      "text/plain": [
       "journey_purpose_of_driver\n",
       "6.0    353761\n",
       "5.0    128483\n",
       "1.0     84463\n",
       "2.0     76821\n",
       "3.0      9340\n",
       "4.0      3406\n",
       "NaN        94\n",
       "Name: count, dtype: int64"
      ]
     },
     "execution_count": 96,
     "metadata": {},
     "output_type": "execute_result"
    }
   ],
   "source": [
    "uk_accidents_df[\"journey_purpose_of_driver\"].value_counts(dropna = False)"
   ]
  },
  {
   "cell_type": "code",
   "execution_count": 97,
   "id": "b74907a9-625b-43ae-b0eb-8fa437236c02",
   "metadata": {},
   "outputs": [],
   "source": [
    "uk_accidents_df.loc[uk_accidents_df[\"journey_purpose_of_driver\"] == 6, \"journey_purpose_of_driver\"] = -1\n",
    "uk_accidents_df.loc[uk_accidents_df[\"journey_purpose_of_driver\"].isna(), \"journey_purpose_of_driver\"] = -1\n"
   ]
  },
  {
   "cell_type": "code",
   "execution_count": 98,
   "id": "efd7a6a2-e42f-495b-ac7c-ce12e593b2f6",
   "metadata": {},
   "outputs": [
    {
     "data": {
      "text/plain": [
       "sex_of_driver\n",
       "1.0    437524\n",
       "2.0    196978\n",
       "3.0     21863\n",
       "NaN         3\n",
       "Name: count, dtype: int64"
      ]
     },
     "execution_count": 98,
     "metadata": {},
     "output_type": "execute_result"
    }
   ],
   "source": [
    "uk_accidents_df[\"sex_of_driver\"].value_counts(dropna = False)"
   ]
  },
  {
   "cell_type": "code",
   "execution_count": 99,
   "id": "1120864a-3df5-4b2f-8534-8a055c2a1b97",
   "metadata": {},
   "outputs": [],
   "source": [
    "uk_accidents_df.loc[uk_accidents_df[\"sex_of_driver\"] == 3, \"sex_of_driver\"] = -1\n",
    "uk_accidents_df.loc[uk_accidents_df[\"sex_of_driver\"] == 3, \"sex_of_driver\"] = -1\n"
   ]
  },
  {
   "cell_type": "code",
   "execution_count": 100,
   "id": "831a8bde-50e2-4e81-9d23-7d0ccadaae34",
   "metadata": {},
   "outputs": [
    {
     "data": {
      "text/plain": [
       "pedestrian_road_maintenance_worker\n",
       "0.0    647757\n",
       "2.0      7194\n",
       "NaN       743\n",
       "1.0       674\n",
       "Name: count, dtype: int64"
      ]
     },
     "execution_count": 100,
     "metadata": {},
     "output_type": "execute_result"
    }
   ],
   "source": [
    "uk_accidents_df[\"pedestrian_road_maintenance_worker\"].value_counts(dropna = False)"
   ]
  },
  {
   "cell_type": "code",
   "execution_count": 101,
   "id": "406edc90-2e4f-4dd6-97e3-ef8d09c301d3",
   "metadata": {},
   "outputs": [],
   "source": [
    "uk_accidents_df.loc[uk_accidents_df[\"pedestrian_road_maintenance_worker\"] == 2, \"pedestrian_road_maintenance_worker\"] = -1\n",
    "uk_accidents_df.loc[uk_accidents_df[\"pedestrian_road_maintenance_worker\"].isna(), \"pedestrian_road_maintenance_worker\"] = -1\n"
   ]
  },
  {
   "cell_type": "code",
   "execution_count": 102,
   "id": "1620a706-3b44-48e5-870d-6827e1ef2bf2",
   "metadata": {},
   "outputs": [
    {
     "data": {
      "text/plain": [
       "hit_object_off_carriageway\n",
       "0.0     548439\n",
       "99.0     41685\n",
       "11.0     13827\n",
       "4.0      13186\n",
       "10.0     10850\n",
       "9.0       6214\n",
       "1.0       6034\n",
       "2.0       5369\n",
       "7.0       4054\n",
       "6.0       3400\n",
       "3.0       2112\n",
       "NaN        592\n",
       "5.0        498\n",
       "8.0        108\n",
       "Name: count, dtype: int64"
      ]
     },
     "execution_count": 102,
     "metadata": {},
     "output_type": "execute_result"
    }
   ],
   "source": [
    "uk_accidents_df[\"hit_object_off_carriageway\"].value_counts(dropna = False)"
   ]
  },
  {
   "cell_type": "code",
   "execution_count": 103,
   "id": "dcba851f-09ee-404b-a8a7-3b274cd2ce3b",
   "metadata": {},
   "outputs": [],
   "source": [
    "to_remap_99_and_nan_to_minus_1.append(\"hit_object_off_carriageway\")"
   ]
  },
  {
   "cell_type": "markdown",
   "id": "c131b294-5df9-47c3-8b57-a3250d7f7251",
   "metadata": {},
   "source": [
    "Now we're ready to remap the missing categorical values and drop the columns we decided to drop:"
   ]
  },
  {
   "cell_type": "code",
   "execution_count": 104,
   "id": "8ef6a207-921f-4f4d-86bf-0d5280fe433b",
   "metadata": {},
   "outputs": [],
   "source": [
    "uk_accidents_df = uk_accidents_df.drop(columns = cols_to_drop)"
   ]
  },
  {
   "cell_type": "code",
   "execution_count": 105,
   "id": "a7f64749-79c2-4f68-a2a8-3c651b7c4295",
   "metadata": {},
   "outputs": [],
   "source": [
    "for col in to_remap_9_and_nan_to_minus_1:\n",
    "    uk_accidents_df.loc[uk_accidents_df[col] == 9, col] = -1\n",
    "    uk_accidents_df.loc[uk_accidents_df[col].isna(), col] = -1\n",
    "\n",
    "for col in to_remap_99_and_nan_to_minus_1:\n",
    "    uk_accidents_df.loc[uk_accidents_df[col] == 99, col] = -1\n",
    "    uk_accidents_df.loc[uk_accidents_df[col].isna(), col] = -1"
   ]
  },
  {
   "cell_type": "markdown",
   "id": "a5c10f67-75b2-4317-af77-78875d0a04c3",
   "metadata": {},
   "source": [
    "We can even set every value to int now:"
   ]
  },
  {
   "cell_type": "code",
   "execution_count": 106,
   "id": "e6d13a9d-d2ad-4493-8f55-d89fdcf4e75a",
   "metadata": {
    "scrolled": true
   },
   "outputs": [
    {
     "data": {
      "text/plain": [
       "accident_year                                    int64\n",
       "accident_severity                                int64\n",
       "number_of_vehicles                               int64\n",
       "number_of_casualties                             int64\n",
       "day_of_week                                      int64\n",
       "first_road_class                                 int64\n",
       "road_type                                        int64\n",
       "speed_limit                                    float64\n",
       "junction_detail                                float64\n",
       "second_road_class                              float64\n",
       "pedestrian_crossing_human_control              float64\n",
       "pedestrian_crossing_physical_facilities        float64\n",
       "light_conditions                               float64\n",
       "weather_conditions                             float64\n",
       "road_surface_conditions                        float64\n",
       "special_conditions_at_site                     float64\n",
       "carriageway_hazards                            float64\n",
       "did_police_officer_attend_scene_of_accident    float64\n",
       "vehicle_type                                   float64\n",
       "towing_and_articulation                        float64\n",
       "vehicle_manoeuvre                              float64\n",
       "vehicle_direction_from                         float64\n",
       "vehicle_direction_to                           float64\n",
       "vehicle_location_restricted_lane               float64\n",
       "junction_location                              float64\n",
       "skidding_and_overturning                       float64\n",
       "hit_object_in_carriageway                      float64\n",
       "vehicle_leaving_carriageway                    float64\n",
       "hit_object_off_carriageway                     float64\n",
       "first_point_of_impact                          float64\n",
       "vehicle_left_hand_drive                        float64\n",
       "journey_purpose_of_driver                      float64\n",
       "sex_of_driver                                  float64\n",
       "age_of_driver                                  float64\n",
       "engine_capacity_cc                             float64\n",
       "age_of_vehicle                                 float64\n",
       "escooter_flag                                    int64\n",
       "casualty_class                                   int64\n",
       "sex_of_casualty                                float64\n",
       "age_of_casualty                                float64\n",
       "age_band_of_casualty                           float64\n",
       "casualty_severity                                int64\n",
       "pedestrian_location                            float64\n",
       "pedestrian_movement                            float64\n",
       "car_passenger                                  float64\n",
       "bus_or_coach_passenger                         float64\n",
       "pedestrian_road_maintenance_worker             float64\n",
       "day_of_month                                     int64\n",
       "month                                            int64\n",
       "time_rounded                                     int64\n",
       "dtype: object"
      ]
     },
     "execution_count": 106,
     "metadata": {},
     "output_type": "execute_result"
    }
   ],
   "source": [
    "uk_accidents_df.dtypes"
   ]
  },
  {
   "cell_type": "code",
   "execution_count": 107,
   "id": "49984e74-f597-4ad6-8939-692091564024",
   "metadata": {
    "scrolled": true
   },
   "outputs": [
    {
     "name": "stdout",
     "output_type": "stream",
     "text": [
      "speed_limit\n",
      "light_conditions\n",
      "did_police_officer_attend_scene_of_accident\n",
      "sex_of_driver\n",
      "engine_capacity_cc\n",
      "age_of_casualty\n",
      "age_band_of_casualty\n"
     ]
    }
   ],
   "source": [
    "for col in uk_accidents_df.columns:\n",
    "    try:\n",
    "        uk_accidents_df[col] = uk_accidents_df[col].astype(int)\n",
    "    except:\n",
    "        print(col)"
   ]
  },
  {
   "cell_type": "code",
   "execution_count": 108,
   "id": "99aa62a4-dc08-48a2-bb34-30e3072075ac",
   "metadata": {},
   "outputs": [
    {
     "data": {
      "text/plain": [
       "array([[1.        , 0.86057294],\n",
       "       [0.86057294, 1.        ]])"
      ]
     },
     "execution_count": 108,
     "metadata": {},
     "output_type": "execute_result"
    }
   ],
   "source": [
    "np.corrcoef(uk_accidents_df[\"accident_severity\"], uk_accidents_df[\"casualty_severity\"])"
   ]
  },
  {
   "cell_type": "markdown",
   "id": "a5b8ccda-93f6-436e-b219-04d91a4ce9bd",
   "metadata": {},
   "source": [
    "Also, there is a high correlation between \"accident_severity\" and \"casualty_severity\" so for our purposes, it's  best to just drop \"casualty_severity\"."
   ]
  },
  {
   "cell_type": "code",
   "execution_count": 109,
   "id": "71747ec4-8945-4eed-8bbb-1a3c769f0057",
   "metadata": {},
   "outputs": [],
   "source": [
    "uk_accidents_df = uk_accidents_df.drop(columns = [\"casualty_severity\"])"
   ]
  },
  {
   "cell_type": "markdown",
   "id": "fb60c940-b61a-4f43-9fdd-283fb83bd8d2",
   "metadata": {},
   "source": [
    "Here are only values where we left NaNs intentionally. Now we're ready with the data preparation and it's time to save our results:"
   ]
  },
  {
   "cell_type": "code",
   "execution_count": 110,
   "id": "eeb01b79-0770-4c3f-80a2-4f7eae86050d",
   "metadata": {},
   "outputs": [],
   "source": [
    "uk_accidents_df.to_csv(\"../data/data_prepared.csv\")"
   ]
  },
  {
   "cell_type": "code",
   "execution_count": 111,
   "id": "2f09e4ab-0288-404e-ae7f-87e8247753b6",
   "metadata": {},
   "outputs": [
    {
     "name": "stdout",
     "output_type": "stream",
     "text": [
      "speed_limit\n",
      "light_conditions\n",
      "did_police_officer_attend_scene_of_accident\n",
      "sex_of_driver\n",
      "engine_capacity_cc\n",
      "age_of_casualty\n",
      "age_band_of_casualty\n"
     ]
    }
   ],
   "source": [
    "for col in uk_accidents_df.columns:\n",
    "    if uk_accidents_df[col].hasnans:\n",
    "        print(col)"
   ]
  },
  {
   "cell_type": "code",
   "execution_count": null,
   "id": "ff00d9bc-cfdd-4879-8cd1-3481c8a9fef7",
   "metadata": {},
   "outputs": [],
   "source": []
  }
 ],
 "metadata": {
  "kernelspec": {
   "display_name": "Python 3 (ipykernel)",
   "language": "python",
   "name": "python3"
  },
  "language_info": {
   "codemirror_mode": {
    "name": "ipython",
    "version": 3
   },
   "file_extension": ".py",
   "mimetype": "text/x-python",
   "name": "python",
   "nbconvert_exporter": "python",
   "pygments_lexer": "ipython3",
   "version": "3.12.7"
  }
 },
 "nbformat": 4,
 "nbformat_minor": 5
}
